{
 "cells": [
  {
   "cell_type": "code",
   "execution_count": 40,
   "id": "f6c9e202",
   "metadata": {},
   "outputs": [],
   "source": [
    "import torch\n",
    "import torch.nn as nn\n",
    "import torch.optim as optim\n",
    "import torch.nn.functional as F\n",
    "import numpy as np\n",
    "import matplotlib.pyplot as plt\n",
    "%matplotlib inline"
   ]
  },
  {
   "cell_type": "code",
   "execution_count": 313,
   "id": "23ce50c1",
   "metadata": {},
   "outputs": [],
   "source": [
    "with open('data.txt', 'r') as f:\n",
    "    data = f.readlines()\n",
    "\n",
    "# inputs\n",
    "defense_ranks = [int(i) for i in data[0].split(',')] # d/st rankings (1-32) best = 1, worst = 32 \n",
    "skill_score = [14.64 for i in range(len(defense_ranks))] # average skill score for RBs\n",
    "\n",
    "# targets\n",
    "targets = [float(i) for i in data[1].split(',')] # fantasy points scored by RBs against each d/st\n",
    "\n",
    "# Training data\n",
    "train_defense_ranks = np.array(defense_ranks[:10], dtype=np.float32)\n",
    "train_skill_score = np.array(skill_score[:10], dtype=np.float32)\n",
    "train_targets = np.array(targets[:10], dtype=np.float32)\n",
    " \n",
    "# Testing data\n",
    "test_defense_ranks = np.array(defense_ranks[10:], dtype=np.float32)\n",
    "test_skill_score = np.array(skill_score[10:], dtype=np.float32)\n",
    "test_targets = np.array(targets[10:], dtype=np.float32)\n",
    "\n",
    "# Convert defense_ranks, skill_scores, and fantasy_scores to PyTorch tensors\n",
    "input1 = torch.from_numpy(train_defense_ranks).view(-1, 1).float()\n",
    "input2 = torch.from_numpy(train_skill_score).view(-1, 1).float()\n",
    "test_input1 = torch.from_numpy(test_defense_ranks).view(-1, 1).float()\n",
    "test_input2 = torch.from_numpy(test_skill_score).view(-1, 1).float()\n",
    "\n",
    "targets = torch.from_numpy(train_targets).view(-1, 1).float()\n",
    "test_targets = torch.from_numpy(test_targets).view(-1, 1).float()\n",
    "# Concatenate inputs and skill_scores\n",
    "inputs = torch.cat((input1, input2), dim=1)\n",
    "test_inputs = torch.cat((test_input1, test_input2), dim=1)"
   ]
  },
  {
   "cell_type": "code",
   "execution_count": 385,
   "id": "036d8f2c",
   "metadata": {},
   "outputs": [],
   "source": [
    "# Define the neural network architecture\n",
    "class RegressionModel(nn.Module):\n",
    "    def __init__(self, input_size, hidden_size):\n",
    "        super(RegressionModel, self).__init__()\n",
    "        self.fc1 = nn.Linear(input_size, hidden_size)\n",
    "        self.relu = nn.ReLU()\n",
    "        self.fc2 = nn.Linear(hidden_size, hidden_size)\n",
    "        self.fc3 = nn.Linear(hidden_size, 1)\n",
    "\n",
    "    def forward(self, x):\n",
    "        out = self.fc1(x)\n",
    "        out = self.relu(out)\n",
    "        out = self.fc2(out)\n",
    "        out = self.fc3(out)\n",
    "        return out\n",
    "\n",
    "# Set hyperparameters\n",
    "input_size = 2\n",
    "hidden_size = 30\n",
    "learning_rate = 0.001\n",
    "num_epochs = 100\n",
    "\n",
    "# Create the model\n",
    "model = RegressionModel(input_size, hidden_size)\n",
    "\n",
    "# Define the loss function and optimizer\n",
    "criterion = nn.MSELoss()\n",
    "optimizer = optim.SGD(model.parameters(), lr=learning_rate)"
   ]
  },
  {
   "cell_type": "code",
   "execution_count": 425,
   "id": "0f5b49b9",
   "metadata": {},
   "outputs": [
    {
     "name": "stdout",
     "output_type": "stream",
     "text": [
      "loss = 18.259113311767578\n",
      "\n",
      "Defense Rank: 1.0, Predicted Fantasy Score: 3.7792720794677734, Actual Fantasy Score: 5.599999904632568\n",
      "Defense Rank: 10.0, Predicted Fantasy Score: 10.341328620910645, Actual Fantasy Score: 14.300000190734863\n",
      "Defense Rank: 29.0, Predicted Fantasy Score: 17.85573959350586, Actual Fantasy Score: 7.599999904632568\n",
      "Defense Rank: 15.0, Predicted Fantasy Score: 9.25361156463623, Actual Fantasy Score: 23.0\n",
      "Defense Rank: 18.0, Predicted Fantasy Score: 10.529393196105957, Actual Fantasy Score: 7.699999809265137\n"
     ]
    }
   ],
   "source": [
    "# Training loop\n",
    "for epoch in range(num_epochs):\n",
    "    # Forward pass\n",
    "    outputs = model(inputs)\n",
    "    loss = criterion(outputs, targets)\n",
    "\n",
    "    # Backward and optimize\n",
    "    optimizer.zero_grad()\n",
    "    loss.backward()\n",
    "    optimizer.step()\n",
    "\n",
    "    # Print the loss for every epoch\n",
    "    # print(f\"Epoch {epoch+1}/{num_epochs}, Loss: {loss.item()}\")\n",
    "\n",
    "# Make predictions\n",
    "with torch.no_grad():\n",
    "    predicted = model(test_inputs)\n",
    "\n",
    "print(f'loss = {loss.item()}\\n') # add blank line\n",
    "# Print the predictions and original scores\n",
    "for i in range(len(test_inputs)):\n",
    "    print(f\"Defense Rank: {test_inputs[i][0]}, Predicted Fantasy Score: {predicted[i][0]}, Actual Fantasy Score: {test_targets[i].item()}\")"
   ]
  }
 ],
 "metadata": {
  "kernelspec": {
   "display_name": "Python 3 (ipykernel)",
   "language": "python",
   "name": "python3"
  },
  "language_info": {
   "codemirror_mode": {
    "name": "ipython",
    "version": 3
   },
   "file_extension": ".py",
   "mimetype": "text/x-python",
   "name": "python",
   "nbconvert_exporter": "python",
   "pygments_lexer": "ipython3",
   "version": "3.10.6"
  }
 },
 "nbformat": 4,
 "nbformat_minor": 5
}
