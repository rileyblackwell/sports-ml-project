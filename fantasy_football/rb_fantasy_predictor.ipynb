{
 "cells": [
  {
   "cell_type": "code",
   "execution_count": 429,
   "id": "f6c9e202",
   "metadata": {},
   "outputs": [],
   "source": [
    "import torch\n",
    "import torch.nn as nn\n",
    "import torch.optim as optim\n",
    "import torch.nn.functional as F\n",
    "import numpy as np\n",
    "import matplotlib.pyplot as plt\n",
    "%matplotlib inline"
   ]
  },
  {
   "cell_type": "code",
   "execution_count": 430,
   "id": "23ce50c1",
   "metadata": {},
   "outputs": [],
   "source": [
    "# Read data from file\n",
    "with open('data.txt', 'r') as f:\n",
    "    data = f.readlines()\n",
    "\n",
    "# Inputs\n",
    "defense_ranks = np.array([int(i) for i in data[0].split(',')], dtype=np.float32)\n",
    "skill_score = np.array([14.64 for _ in range(len(defense_ranks))], dtype=np.float32)\n",
    "\n",
    "# Targets\n",
    "fantasy_scores = np.array([float(i) for i in data[1].split(',')], dtype=np.float32)\n",
    "\n",
    "# Training data\n",
    "inputs = torch.cat((torch.from_numpy(defense_ranks[:10]).view(-1, 1).float(),\n",
    "                          torch.from_numpy(skill_score[:10]).view(-1, 1).float()), dim=1)\n",
    "targets = torch.from_numpy(fantasy_scores[:10]).view(-1, 1).float()\n",
    "\n",
    "# Testing data\n",
    "test_inputs = torch.cat((torch.from_numpy(defense_ranks[10:]).view(-1, 1).float(),\n",
    "                         torch.from_numpy(skill_score[10:]).view(-1, 1).float()), dim=1)\n",
    "test_targets = torch.from_numpy(fantasy_scores[10:]).view(-1, 1).float()\n"
   ]
  },
  {
   "cell_type": "code",
   "execution_count": 432,
   "id": "036d8f2c",
   "metadata": {},
   "outputs": [],
   "source": [
    "# Define the neural network architecture\n",
    "class RegressionModel(nn.Module):\n",
    "    def __init__(self, input_size, hidden_size):\n",
    "        super(RegressionModel, self).__init__()\n",
    "        self.fc1 = nn.Linear(input_size, hidden_size)\n",
    "        self.relu = nn.ReLU()\n",
    "        self.fc2 = nn.Linear(hidden_size, hidden_size)\n",
    "        self.fc3 = nn.Linear(hidden_size, 1)\n",
    "\n",
    "    def forward(self, x):\n",
    "        out = self.fc1(x)\n",
    "        out = self.relu(out)\n",
    "        out = self.fc2(out)\n",
    "        out = self.fc3(out)\n",
    "        return out\n",
    "\n",
    "# Set hyperparameters\n",
    "input_size = 2\n",
    "hidden_size = 30\n",
    "learning_rate = 0.001\n",
    "num_epochs = 100\n",
    "\n",
    "# Create the model\n",
    "model = RegressionModel(input_size, hidden_size)\n",
    "\n",
    "# Define the loss function and optimizer\n",
    "criterion = nn.MSELoss()\n",
    "optimizer = optim.SGD(model.parameters(), lr=learning_rate)"
   ]
  },
  {
   "cell_type": "code",
   "execution_count": 447,
   "id": "0f5b49b9",
   "metadata": {},
   "outputs": [
    {
     "name": "stdout",
     "output_type": "stream",
     "text": [
      "loss = 18.989673614501953\n",
      "\n",
      "Defense Rank: 1.0, Predicted Fantasy Score: 6.102067947387695, Actual Fantasy Score: 5.599999904632568\n",
      "Defense Rank: 10.0, Predicted Fantasy Score: 10.42695426940918, Actual Fantasy Score: 14.300000190734863\n",
      "Defense Rank: 29.0, Predicted Fantasy Score: 18.36905860900879, Actual Fantasy Score: 7.599999904632568\n",
      "Defense Rank: 15.0, Predicted Fantasy Score: 9.510947227478027, Actual Fantasy Score: 23.0\n",
      "Defense Rank: 18.0, Predicted Fantasy Score: 10.619852066040039, Actual Fantasy Score: 7.699999809265137\n"
     ]
    }
   ],
   "source": [
    "# Training loop\n",
    "for epoch in range(num_epochs):\n",
    "    # Forward pass\n",
    "    outputs = model(inputs)\n",
    "    loss = criterion(outputs, targets)\n",
    "\n",
    "    # Backward and optimize\n",
    "    optimizer.zero_grad()\n",
    "    loss.backward()\n",
    "    optimizer.step()\n",
    "\n",
    "    # Print the loss for every epoch\n",
    "    # print(f\"Epoch {epoch+1}/{num_epochs}, Loss: {loss.item()}\")\n",
    "\n",
    "# Make predictions\n",
    "with torch.no_grad():\n",
    "    predicted = model(test_inputs)\n",
    "\n",
    "print(f'loss = {loss.item()}\\n') # add blank line\n",
    "# Print the predictions and original scores\n",
    "for i in range(len(test_inputs)):\n",
    "    print(f\"Defense Rank: {test_inputs[i][0]}, Predicted Fantasy Score: {predicted[i][0]}, Actual Fantasy Score: {test_targets[i].item()}\")"
   ]
  }
 ],
 "metadata": {
  "kernelspec": {
   "display_name": "Python 3 (ipykernel)",
   "language": "python",
   "name": "python3"
  },
  "language_info": {
   "codemirror_mode": {
    "name": "ipython",
    "version": 3
   },
   "file_extension": ".py",
   "mimetype": "text/x-python",
   "name": "python",
   "nbconvert_exporter": "python",
   "pygments_lexer": "ipython3",
   "version": "3.10.6"
  }
 },
 "nbformat": 4,
 "nbformat_minor": 5
}
