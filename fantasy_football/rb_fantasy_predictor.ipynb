{
 "cells": [
  {
   "cell_type": "code",
   "execution_count": 44,
   "id": "f6c9e202",
   "metadata": {},
   "outputs": [],
   "source": [
    "import torch\n",
    "import matplotlib.pyplot as plt\n",
    "%matplotlib inline"
   ]
  },
  {
   "cell_type": "code",
   "execution_count": 45,
   "id": "526a6020",
   "metadata": {},
   "outputs": [],
   "source": [
    "with open('data.txt', 'r') as f:\n",
    "    data = f.readlines()"
   ]
  },
  {
   "cell_type": "code",
   "execution_count": 53,
   "id": "23ce50c1",
   "metadata": {},
   "outputs": [
    {
     "name": "stdout",
     "output_type": "stream",
     "text": [
      "tensor([12.,  5., 29., 16., 32., 20., 27., 11.,  4.,  2.,  1., 10., 29., 15.,\n",
      "        18.])\n",
      "tensor([ 0.3857,  0.8166,  0.6947,  0.5852,  1.8635, -1.6936,  1.5856, -0.7252,\n",
      "        -1.1014, -0.2945, -0.6604,  1.2609,  2.2745, -0.6434, -0.2602, -0.8861,\n",
      "         0.6536,  1.0470, -0.5381, -1.2227, -0.7206,  0.0630,  0.5453, -1.1172,\n",
      "        -0.2063,  0.1457, -0.4586,  0.1039,  1.3490, -0.1702,  1.2319,  0.5207,\n",
      "        -0.3168,  2.1176, -0.1136, -0.6676, -0.5259,  0.4173, -0.0478, -1.6269,\n",
      "        -0.1849,  0.9662, -0.0656, -2.1536, -0.8617,  1.0219, -0.0502,  0.5226,\n",
      "        -0.3392,  1.1991,  0.6344, -0.6681,  0.4903,  1.4146,  0.3450, -0.4018])\n",
      "tensor([10.8000,  3.6000, 13.6000,  8.6000, 24.1000, 14.3000, 20.1000, 11.6000,\n",
      "        20.6000,  7.2000,  5.6000, 14.3000,  7.6000, 23.0000,  7.7000])\n"
     ]
    }
   ],
   "source": [
    "# inputs\n",
    "xs = torch.Tensor([float(i) for i in data[0].split(',')])   ; requires_grad=True \n",
    "\n",
    "# weights\n",
    "w = torch.randn(len(data[0]))   ; requires_grad=True  \n",
    "\n",
    "# targets\n",
    "ys = torch.Tensor([float(i) for i in data[1].split(',')])\n",
    "\n",
    "print(xs)\n",
    "print(w)\n",
    "print(ys)"
   ]
  },
  {
   "cell_type": "code",
   "execution_count": null,
   "id": "fce03549",
   "metadata": {},
   "outputs": [],
   "source": []
  }
 ],
 "metadata": {
  "kernelspec": {
   "display_name": "Python 3 (ipykernel)",
   "language": "python",
   "name": "python3"
  },
  "language_info": {
   "codemirror_mode": {
    "name": "ipython",
    "version": 3
   },
   "file_extension": ".py",
   "mimetype": "text/x-python",
   "name": "python",
   "nbconvert_exporter": "python",
   "pygments_lexer": "ipython3",
   "version": "3.10.6"
  }
 },
 "nbformat": 4,
 "nbformat_minor": 5
}
