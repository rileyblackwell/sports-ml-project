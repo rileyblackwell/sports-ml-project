{
 "cells": [
  {
   "cell_type": "code",
   "execution_count": 4,
   "metadata": {},
   "outputs": [
    {
     "data": {
      "text/plain": [
       "(torch.Size([30, 50, 5]),\n",
       " torch.Size([30, 50, 1]),\n",
       " torch.Size([10, 50, 5]),\n",
       " torch.Size([10, 50, 1]),\n",
       " torch.Size([1, 50, 5]),\n",
       " torch.Size([1, 50, 1]))"
      ]
     },
     "execution_count": 4,
     "metadata": {},
     "output_type": "execute_result"
    }
   ],
   "source": [
    "import torch\n",
    "import torch.nn as nn\n",
    "import torch.optim as optim\n",
    "import numpy as np\n",
    "import matplotlib.pyplot as plt\n",
    "import torch.utils.data as data_utils\n",
    "%matplotlib inline\n",
    "\n",
    "device = torch.device(\"cuda\" if torch.cuda.is_available() else \"cpu\")\n",
    "\n",
    "# Read data from file\n",
    "with open('data.txt', 'r') as f:\n",
    "    data = f.readlines()\n",
    "\n",
    "# Define player data\n",
    "players = []\n",
    "for i in range(0, len(data), 6):\n",
    "    player = {\n",
    "        'defense_ranks': np.array([int(j) for j in data[i].split(',')], dtype=np.float32),\n",
    "        'defense_encodings': np.array([int(j) for j in data[i+1].split(',')], dtype=np.float32),\n",
    "        'fantasy_scores': np.array([float(j) for j in data[i+2].split(',')], dtype=np.float32),\n",
    "        'skill_score': np.array([float(j) for j in data[i+3].split(',')], dtype=np.float32),\n",
    "        'weeks_encodings': np.array([int(j) for j in data[i+4].split(',')], dtype=np.float32),\n",
    "        'season_encodings': np.array([int(j) for j in data[i+5].split(',')], dtype=np.float32)\n",
    "    }\n",
    "    players.append(player)\n",
    "\n",
    "# Process inputs and targets for each player\n",
    "X_train, Y_train, X_dev, Y_dev, X_test, Y_test = [], [], [], [], [], []\n",
    " \n",
    "for player in players[:30]:\n",
    "    player_inputs = torch.from_numpy(player['defense_ranks']).view(1, 50, 1).float()\n",
    "    player_inputs = torch.cat((player_inputs, torch.from_numpy(player['defense_encodings']).view(1, 50, 1).float()), dim=2)\n",
    "    player_inputs = torch.cat((player_inputs, torch.from_numpy(player['skill_score']).view(1, 50, 1).float()), dim=2)\n",
    "    player_inputs = torch.cat((player_inputs, torch.from_numpy(player['weeks_encodings']).view(1, 50, 1).float()), dim=2)\n",
    "    player_inputs = torch.cat((player_inputs, torch.from_numpy(player['season_encodings']).view(1, 50, 1).float()), dim=2)\n",
    "    X_train.append(player_inputs)\n",
    "    Y_train.append(torch.from_numpy(player['fantasy_scores']).view(1, 50, 1).float())\n",
    "\n",
    "for player in players[30:40]:\n",
    "    player_dev_inputs = torch.from_numpy(player['defense_ranks']).view(1, 50, 1).float()\n",
    "    player_dev_inputs = torch.cat((player_dev_inputs, torch.from_numpy(player['defense_encodings']).view(1, 50, 1).float()), dim=2)\n",
    "    player_dev_inputs = torch.cat((player_dev_inputs, torch.from_numpy(player['skill_score']).view(1, 50, 1).float()), dim=2)\n",
    "    player_dev_inputs = torch.cat((player_dev_inputs, torch.from_numpy(player['weeks_encodings']).view(1, 50, 1).float()), dim=2)\n",
    "    player_dev_inputs = torch.cat((player_dev_inputs, torch.from_numpy(player['season_encodings']).view(1, 50, 1).float()), dim=2)\n",
    "    X_dev.append(player_dev_inputs)\n",
    "    Y_dev.append(torch.from_numpy(player['fantasy_scores']).view(1, 50, 1).float())\n",
    "\n",
    "for player in players[40:41]:\n",
    "    player_test_inputs = torch.from_numpy(player['defense_ranks']).view(1, 50, 1).float()\n",
    "    player_test_inputs = torch.cat((player_test_inputs, torch.from_numpy(player['defense_encodings']).view(1, 50, 1).float()), dim=2)\n",
    "    player_test_inputs = torch.cat((player_test_inputs, torch.from_numpy(player['skill_score']).view(1, 50, 1).float()), dim=2)\n",
    "    player_test_inputs = torch.cat((player_test_inputs, torch.from_numpy(player['weeks_encodings']).view(1, 50, 1).float()), dim=2)\n",
    "    player_test_inputs = torch.cat((player_test_inputs, torch.from_numpy(player['season_encodings']).view(1, 50, 1).float()), dim=2)\n",
    "    X_test.append(player_test_inputs)  \n",
    "    Y_test.append(torch.from_numpy(player['fantasy_scores']).view(1, 50, 1).float())\n",
    "\n",
    "# Combine inputs and targets for all players\n",
    "X_train = torch.cat(X_train, dim=0).to(device)\n",
    "Y_train = torch.cat(Y_train, dim=0).to(device)\n",
    "X_dev = torch.cat(X_dev, dim=0).to(device)\n",
    "Y_dev = torch.cat(Y_dev, dim=0).to(device) \n",
    "X_test = torch.cat(X_test, dim=0).to(device)\n",
    "Y_test = torch.cat(Y_test, dim=0).to(device)\n",
    "X_train.shape, Y_train.shape, X_dev.shape, Y_dev.shape, X_test.shape, Y_test.shape"
   ]
  },
  {
   "cell_type": "code",
   "execution_count": 6,
   "metadata": {},
   "outputs": [
    {
     "name": "stdout",
     "output_type": "stream",
     "text": [
      "30\n"
     ]
    },
    {
     "data": {
      "text/plain": [
       "12002"
      ]
     },
     "execution_count": 6,
     "metadata": {},
     "output_type": "execute_result"
    }
   ],
   "source": [
    "# Define the neural network architecture\n",
    "class RegressionModel(nn.Module):\n",
    "    def __init__(self, input_size, hidden_size):\n",
    "        super(RegressionModel, self).__init__()\n",
    "        self.fc1 = nn.Linear(input_size, hidden_size)\n",
    "        self.relu = nn.ReLU()\n",
    "        self.fc2 = nn.Linear(hidden_size, hidden_size)\n",
    "        self.fc3 = nn.Linear(hidden_size, hidden_size)\n",
    "        self.fc4 = nn.Linear(hidden_size, hidden_size)\n",
    "        self.fc5 = nn.Linear(hidden_size, 1)\n",
    "\n",
    "    def forward(self, x):\n",
    "        out = self.fc1(x)\n",
    "        out = self.relu(out)\n",
    "        out = self.fc2(out)\n",
    "        out = self.relu(out)\n",
    "        out = self.fc3(out)\n",
    "        out = self.relu(out)\n",
    "        out = self.fc4(out)\n",
    "        out = self.relu(out)\n",
    "        out = self.fc5(out)\n",
    "        return out\n",
    "\n",
    "# Set hyperparameters\n",
    "initial_learning_rate = 0.0004\n",
    "batch_size = len(X_train)\n",
    "num_batches = len(X_train) // batch_size  # Only full batches\n",
    "\n",
    "# Create the model\n",
    "model = RegressionModel(5, 1500).to(device)\n",
    "\n",
    "# Define the loss function and optimizer\n",
    "criterion = nn.MSELoss()\n",
    "optimizer = optim.SGD(model.parameters(), lr=initial_learning_rate)\n",
    "\n",
    "train_dataset = data_utils.TensorDataset(X_train, Y_train)\n",
    "train_loader = data_utils.DataLoader(train_dataset, batch_size=batch_size, shuffle=True)\n",
    "\n",
    "# Set up a learning rate scheduler\n",
    "scheduler = torch.optim.lr_scheduler.StepLR(optimizer, step_size=750, gamma=0.5)\n",
    "\n",
    "total = 0\n",
    "params = list(model.parameters())\n",
    "for i in params:\n",
    "    total += len(i)\n",
    "total"
   ]
  },
  {
   "cell_type": "code",
   "execution_count": 81,
   "metadata": {},
   "outputs": [
    {
     "name": "stdout",
     "output_type": "stream",
     "text": [
      "Epoch 150/150, Average Loss: 42.789737701416016\n",
      "Dev Loss: 47.92681884765625\n"
     ]
    }
   ],
   "source": [
    "# Training loop for each player\n",
    "epochs = 1500\n",
    " \n",
    "# Training loop\n",
    "for epoch in range(epochs):\n",
    "    model.train()  # Set the model in training mode\n",
    "    total_loss = 0.0\n",
    "\n",
    "    for batch_X, batch_Y in train_loader:\n",
    "        # Forward pass\n",
    "        outputs = model(batch_X)\n",
    "        loss = criterion(outputs, batch_Y)\n",
    "\n",
    "        # Backward and optimize\n",
    "        optimizer.zero_grad()\n",
    "        loss.backward()\n",
    "        optimizer.step()\n",
    "\n",
    "        total_loss += loss.item()\n",
    "\n",
    "    # Adjust learning rate using the scheduler\n",
    "    scheduler.step()\n",
    "\n",
    "    # Print the average loss for the epoch\n",
    "    if epoch + 1 == epochs:\n",
    "        print(f\"Epoch {epoch+1}/{epochs}, Average Loss: {total_loss/num_batches}\")\n",
    "\n",
    "# Evaluation on the dev set\n",
    "model.eval()  # Set the model in evaluation mode\n",
    "with torch.no_grad():\n",
    "    dev_outputs = model(X_dev)\n",
    "    dev_loss = criterion(dev_outputs, Y_dev)\n",
    "    print(f\"Dev Loss: {dev_loss.item()}\")"
   ]
  }
 ],
 "metadata": {
  "kernelspec": {
   "display_name": "sports_ml_project-GEDH4Ov9",
   "language": "python",
   "name": "python3"
  },
  "language_info": {
   "codemirror_mode": {
    "name": "ipython",
    "version": 3
   },
   "file_extension": ".py",
   "mimetype": "text/x-python",
   "name": "python",
   "nbconvert_exporter": "python",
   "pygments_lexer": "ipython3",
   "version": "3.10.6"
  },
  "orig_nbformat": 4
 },
 "nbformat": 4,
 "nbformat_minor": 2
}
