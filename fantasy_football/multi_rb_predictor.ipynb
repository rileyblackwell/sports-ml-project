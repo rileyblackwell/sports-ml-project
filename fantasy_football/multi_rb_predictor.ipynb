{
 "cells": [
  {
   "cell_type": "code",
   "execution_count": 17,
   "metadata": {},
   "outputs": [
    {
     "data": {
      "text/plain": [
       "(torch.Size([18, 50, 3]),\n",
       " torch.Size([18, 50, 1]),\n",
       " torch.Size([1, 50, 3]),\n",
       " torch.Size([1, 50, 1]))"
      ]
     },
     "execution_count": 17,
     "metadata": {},
     "output_type": "execute_result"
    }
   ],
   "source": [
    "import torch\n",
    "import torch.nn as nn\n",
    "import torch.optim as optim\n",
    "import numpy as np\n",
    "import matplotlib.pyplot as plt\n",
    "%matplotlib inline\n",
    "\n",
    "# Read data from file\n",
    "with open('data.txt', 'r') as f:\n",
    "    data = f.readlines()\n",
    "\n",
    "# Define player data\n",
    "players = []\n",
    "for i in range(0, len(data), 4):\n",
    "    player = {\n",
    "        'defense_ranks': np.array([int(j) for j in data[i].split(',')], dtype=np.float32),\n",
    "        'defense_encodings': np.array([int(j) for j in data[i+1].split(',')], dtype=np.float32),\n",
    "        'fantasy_scores': np.array([float(j) for j in data[i+2].split(',')], dtype=np.float32),\n",
    "        'skill_score': np.array([float(j) for j in data[i+3].split(',')], dtype=np.float32),\n",
    "    }\n",
    "    players.append(player)\n",
    "\n",
    "# Process inputs and targets for each player\n",
    "X_train, Y_train, X_test, Y_test = [], [], [], []\n",
    " \n",
    "for player in players[:18]:\n",
    "    player_inputs = torch.from_numpy(player['defense_ranks']).view(1, 50, 1).float()\n",
    "    player_inputs = torch.cat((player_inputs, torch.from_numpy(player['defense_encodings']).view(1, 50, 1).float()), dim=2)\n",
    "    player_inputs = torch.cat((player_inputs, torch.from_numpy(player['skill_score']).view(1, 50, 1).float()), dim=2)\n",
    "    X_train.append(player_inputs)\n",
    "    Y_train.append(torch.from_numpy(player['fantasy_scores']).view(1, 50, 1).float())\n",
    "  \n",
    "for player in players[18:19]:\n",
    "    player_test_inputs = torch.from_numpy(player['defense_ranks']).view(1, 50, 1).float()\n",
    "    player_test_inputs = torch.cat((player_test_inputs, torch.from_numpy(player['defense_encodings']).view(1, 50, 1).float()), dim=2)\n",
    "    player_test_inputs = torch.cat((player_test_inputs, torch.from_numpy(player['skill_score']).view(1, 50, 1).float()), dim=2)\n",
    "    X_test.append(player_test_inputs)  \n",
    "    Y_test.append(torch.from_numpy(player['fantasy_scores']).view(1, 50, 1).float())\n",
    "\n",
    "# Combine inputs and targets for all players\n",
    "X_train = torch.cat(X_train, dim=0)\n",
    "Y_train = torch.cat(Y_train, dim=0)\n",
    "X_test = torch.cat(X_test, dim=0)\n",
    "Y_test = torch.cat(Y_test, dim=0)\n",
    "X_train.shape, Y_train.shape, X_test.shape, Y_test.shape"
   ]
  },
  {
   "cell_type": "code",
   "execution_count": 21,
   "metadata": {},
   "outputs": [
    {
     "data": {
      "text/plain": [
       "8002"
      ]
     },
     "execution_count": 21,
     "metadata": {},
     "output_type": "execute_result"
    }
   ],
   "source": [
    "# Define the neural network architecture\n",
    "class RegressionModel(nn.Module):\n",
    "    def __init__(self, input_size, hidden_size):\n",
    "        super(RegressionModel, self).__init__()\n",
    "        self.fc1 = nn.Linear(input_size, hidden_size)\n",
    "        self.relu = nn.ReLU()\n",
    "        self.fc2 = nn.Linear(hidden_size, hidden_size)\n",
    "        self.fc3 = nn.Linear(hidden_size, hidden_size)\n",
    "        self.fc4 = nn.Linear(hidden_size, hidden_size)\n",
    "        self.fc5 = nn.Linear(hidden_size, 1)\n",
    "\n",
    "    def forward(self, x):\n",
    "        out = self.fc1(x)\n",
    "        out = self.relu(out)\n",
    "        out = self.fc2(out)\n",
    "        out = self.fc3(out)\n",
    "        out = self.fc4(out)\n",
    "        out = self.fc5(out)\n",
    "        return out\n",
    "\n",
    "# Set hyperparameters\n",
    "initial_learning_rate = 0.0003\n",
    "reduced_learning_rate = 0.0001\n",
    "\n",
    "# Create the model\n",
    "model = RegressionModel(3, 1000)\n",
    "\n",
    "# Define the loss function and optimizer\n",
    "criterion = nn.MSELoss()\n",
    "optimizer = optim.SGD(model.parameters(), lr=initial_learning_rate)\n",
    "\n",
    "total = 0\n",
    "params = list(model.parameters())\n",
    "for i in params:\n",
    "    total += len(i)\n",
    "total"
   ]
  },
  {
   "cell_type": "code",
   "execution_count": 25,
   "metadata": {},
   "outputs": [
    {
     "ename": "KeyboardInterrupt",
     "evalue": "",
     "output_type": "error",
     "traceback": [
      "\u001b[0;31m---------------------------------------------------------------------------\u001b[0m",
      "\u001b[0;31mKeyboardInterrupt\u001b[0m                         Traceback (most recent call last)",
      "Cell \u001b[0;32mIn[25], line 12\u001b[0m\n\u001b[1;32m      9\u001b[0m \u001b[39mfor\u001b[39;00m epoch_run \u001b[39min\u001b[39;00m \u001b[39mrange\u001b[39m(epoch_runs):\n\u001b[1;32m     10\u001b[0m     \u001b[39mfor\u001b[39;00m batch \u001b[39min\u001b[39;00m \u001b[39mrange\u001b[39m(num_batches):\n\u001b[1;32m     11\u001b[0m         \u001b[39m# Forward pass\u001b[39;00m\n\u001b[0;32m---> 12\u001b[0m         outputs \u001b[39m=\u001b[39m model(X_train[batch \u001b[39m*\u001b[39;49m batch_size: (batch \u001b[39m+\u001b[39;49m \u001b[39m1\u001b[39;49m) \u001b[39m*\u001b[39;49m batch_size])\n\u001b[1;32m     13\u001b[0m         loss \u001b[39m=\u001b[39m criterion(outputs, Y_train[batch \u001b[39m*\u001b[39m batch_size: (batch \u001b[39m+\u001b[39m \u001b[39m1\u001b[39m) \u001b[39m*\u001b[39m batch_size])\n\u001b[1;32m     15\u001b[0m         \u001b[39m# Backward and optimize\u001b[39;00m\n",
      "File \u001b[0;32m~/.local/lib/python3.10/site-packages/torch/nn/modules/module.py:1194\u001b[0m, in \u001b[0;36mModule._call_impl\u001b[0;34m(self, *input, **kwargs)\u001b[0m\n\u001b[1;32m   1190\u001b[0m \u001b[39m# If we don't have any hooks, we want to skip the rest of the logic in\u001b[39;00m\n\u001b[1;32m   1191\u001b[0m \u001b[39m# this function, and just call forward.\u001b[39;00m\n\u001b[1;32m   1192\u001b[0m \u001b[39mif\u001b[39;00m \u001b[39mnot\u001b[39;00m (\u001b[39mself\u001b[39m\u001b[39m.\u001b[39m_backward_hooks \u001b[39mor\u001b[39;00m \u001b[39mself\u001b[39m\u001b[39m.\u001b[39m_forward_hooks \u001b[39mor\u001b[39;00m \u001b[39mself\u001b[39m\u001b[39m.\u001b[39m_forward_pre_hooks \u001b[39mor\u001b[39;00m _global_backward_hooks\n\u001b[1;32m   1193\u001b[0m         \u001b[39mor\u001b[39;00m _global_forward_hooks \u001b[39mor\u001b[39;00m _global_forward_pre_hooks):\n\u001b[0;32m-> 1194\u001b[0m     \u001b[39mreturn\u001b[39;00m forward_call(\u001b[39m*\u001b[39;49m\u001b[39minput\u001b[39;49m, \u001b[39m*\u001b[39;49m\u001b[39m*\u001b[39;49mkwargs)\n\u001b[1;32m   1195\u001b[0m \u001b[39m# Do not call functions when jit is used\u001b[39;00m\n\u001b[1;32m   1196\u001b[0m full_backward_hooks, non_full_backward_hooks \u001b[39m=\u001b[39m [], []\n",
      "Cell \u001b[0;32mIn[21], line 13\u001b[0m, in \u001b[0;36mRegressionModel.forward\u001b[0;34m(self, x)\u001b[0m\n\u001b[1;32m     12\u001b[0m \u001b[39mdef\u001b[39;00m \u001b[39mforward\u001b[39m(\u001b[39mself\u001b[39m, x):\n\u001b[0;32m---> 13\u001b[0m     out \u001b[39m=\u001b[39m \u001b[39mself\u001b[39;49m\u001b[39m.\u001b[39;49mfc1(x)\n\u001b[1;32m     14\u001b[0m     out \u001b[39m=\u001b[39m \u001b[39mself\u001b[39m\u001b[39m.\u001b[39mrelu(out)\n\u001b[1;32m     15\u001b[0m     out \u001b[39m=\u001b[39m \u001b[39mself\u001b[39m\u001b[39m.\u001b[39mfc2(out)\n",
      "File \u001b[0;32m~/.local/lib/python3.10/site-packages/torch/nn/modules/module.py:1194\u001b[0m, in \u001b[0;36mModule._call_impl\u001b[0;34m(self, *input, **kwargs)\u001b[0m\n\u001b[1;32m   1190\u001b[0m \u001b[39m# If we don't have any hooks, we want to skip the rest of the logic in\u001b[39;00m\n\u001b[1;32m   1191\u001b[0m \u001b[39m# this function, and just call forward.\u001b[39;00m\n\u001b[1;32m   1192\u001b[0m \u001b[39mif\u001b[39;00m \u001b[39mnot\u001b[39;00m (\u001b[39mself\u001b[39m\u001b[39m.\u001b[39m_backward_hooks \u001b[39mor\u001b[39;00m \u001b[39mself\u001b[39m\u001b[39m.\u001b[39m_forward_hooks \u001b[39mor\u001b[39;00m \u001b[39mself\u001b[39m\u001b[39m.\u001b[39m_forward_pre_hooks \u001b[39mor\u001b[39;00m _global_backward_hooks\n\u001b[1;32m   1193\u001b[0m         \u001b[39mor\u001b[39;00m _global_forward_hooks \u001b[39mor\u001b[39;00m _global_forward_pre_hooks):\n\u001b[0;32m-> 1194\u001b[0m     \u001b[39mreturn\u001b[39;00m forward_call(\u001b[39m*\u001b[39;49m\u001b[39minput\u001b[39;49m, \u001b[39m*\u001b[39;49m\u001b[39m*\u001b[39;49mkwargs)\n\u001b[1;32m   1195\u001b[0m \u001b[39m# Do not call functions when jit is used\u001b[39;00m\n\u001b[1;32m   1196\u001b[0m full_backward_hooks, non_full_backward_hooks \u001b[39m=\u001b[39m [], []\n",
      "File \u001b[0;32m~/.local/lib/python3.10/site-packages/torch/nn/modules/linear.py:114\u001b[0m, in \u001b[0;36mLinear.forward\u001b[0;34m(self, input)\u001b[0m\n\u001b[1;32m    113\u001b[0m \u001b[39mdef\u001b[39;00m \u001b[39mforward\u001b[39m(\u001b[39mself\u001b[39m, \u001b[39minput\u001b[39m: Tensor) \u001b[39m-\u001b[39m\u001b[39m>\u001b[39m Tensor:\n\u001b[0;32m--> 114\u001b[0m     \u001b[39mreturn\u001b[39;00m F\u001b[39m.\u001b[39;49mlinear(\u001b[39minput\u001b[39;49m, \u001b[39mself\u001b[39;49m\u001b[39m.\u001b[39;49mweight, \u001b[39mself\u001b[39;49m\u001b[39m.\u001b[39;49mbias)\n",
      "\u001b[0;31mKeyboardInterrupt\u001b[0m: "
     ]
    }
   ],
   "source": [
    "# Training loop for each player with batch size of 2\n",
    "batch_size = 9\n",
    "num_players = len(X_train)\n",
    "num_batches = num_players // batch_size  # Only full batches\n",
    "epoch_runs = 200\n",
    "reduced_lr_epoch = False\n",
    "\n",
    "# Training loop\n",
    "for epoch_run in range(epoch_runs):\n",
    "    for batch in range(num_batches):\n",
    "        # Forward pass\n",
    "        outputs = model(X_train[batch * batch_size: (batch + 1) * batch_size])\n",
    "        loss = criterion(outputs, Y_train[batch * batch_size: (batch + 1) * batch_size])\n",
    "\n",
    "        # Backward and optimize\n",
    "        optimizer.zero_grad()\n",
    "        loss.backward()\n",
    "        optimizer.step()\n",
    "\n",
    "        # Manually reduce the learning rate at the specified epoch\n",
    "        if reduced_lr_epoch == True:\n",
    "            for param_group in optimizer.param_groups:\n",
    "                param_group['lr'] = reduced_learning_rate\n",
    "\n",
    "        # Print the loss for every epoch\n",
    "        if epoch_run + 1 == epoch_runs:\n",
    "            print(f\"Batch {batch+1}/{num_batches}, Epoch {epoch_run+1}/{epoch_runs}, Loss: {loss.item()}\")\n",
    "    \n",
    "# Make predictions for the player's test inputs\n",
    "with torch.no_grad():\n",
    "    player_predicted = model(X_test)\n",
    "\n",
    "print() # blank line\n",
    "# Print the predictions and original scores for the player\n",
    "for i in range(len(X_test[0])):\n",
    "    for j in range(len(X_test)):\n",
    "        print(f\"Player {j+1}: Skill Score: {round(X_test[j][i][2].item(), 2)}, Defense Rank: {X_test[j][i][0].item()}, Defense: {X_test[j][i][1].item()}, \" + \n",
    "              f\"Predicted Fantasy Score: {round(player_predicted[j][i].item(), 2)}, Actual Fantasy Score: {round(Y_test[j][i].item(), 2)}\")\n",
    "    print() # blank line"
   ]
  }
 ],
 "metadata": {
  "kernelspec": {
   "display_name": "sports_ml_project-GEDH4Ov9",
   "language": "python",
   "name": "python3"
  },
  "language_info": {
   "codemirror_mode": {
    "name": "ipython",
    "version": 3
   },
   "file_extension": ".py",
   "mimetype": "text/x-python",
   "name": "python",
   "nbconvert_exporter": "python",
   "pygments_lexer": "ipython3",
   "version": "3.10.6"
  },
  "orig_nbformat": 4
 },
 "nbformat": 4,
 "nbformat_minor": 2
}
