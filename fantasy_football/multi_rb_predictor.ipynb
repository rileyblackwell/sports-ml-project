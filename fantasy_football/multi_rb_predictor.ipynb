{
 "cells": [
  {
   "cell_type": "code",
   "execution_count": 7,
   "metadata": {},
   "outputs": [
    {
     "data": {
      "text/plain": [
       "(torch.Size([16, 15, 2]),\n",
       " torch.Size([16, 15, 1]),\n",
       " torch.Size([1, 15, 2]),\n",
       " torch.Size([1, 15, 1]))"
      ]
     },
     "execution_count": 7,
     "metadata": {},
     "output_type": "execute_result"
    }
   ],
   "source": [
    "import torch\n",
    "import torch.nn as nn\n",
    "import torch.optim as optim\n",
    "import numpy as np\n",
    "import matplotlib.pyplot as plt\n",
    "%matplotlib inline\n",
    "\n",
    "# Read data from file\n",
    "with open('data.txt', 'r') as f:\n",
    "    data = f.readlines()\n",
    "\n",
    "# Define player data\n",
    "players = []\n",
    "for i in range(0, len(data), 3):\n",
    "    player = {\n",
    "        'defense_ranks': np.array([int(j) for j in data[i].split(',')], dtype=np.float32),\n",
    "        'fantasy_scores': np.array([float(j) for j in data[i+1].split(',')], dtype=np.float32),\n",
    "        'skill_score': np.array([float(j) for j in data[i+2].split(',')], dtype=np.float32),\n",
    "    }\n",
    "    players.append(player)\n",
    "\n",
    "# Process inputs and targets for each player\n",
    "X_train, Y_train, X_test, Y_test = [], [], [], []\n",
    " \n",
    "for player in players[:16]:\n",
    "    player_inputs = torch.from_numpy(player['defense_ranks']).view(1, 15, 1).float()\n",
    "    player_inputs = torch.cat((player_inputs, torch.from_numpy(player['skill_score']).view(1, 15, 1).float()), dim=2)\n",
    "    X_train.append(player_inputs)\n",
    "    Y_train.append(torch.from_numpy(player['fantasy_scores']).view(1, 15, 1).float())\n",
    "  \n",
    "for player in players[16:17]:\n",
    "    player_test_inputs = torch.from_numpy(player['defense_ranks']).view(1, 15, 1).float()\n",
    "    player_test_inputs = torch.cat((player_test_inputs, torch.from_numpy(player['skill_score']).view(1, 15, 1).float()), dim=2)\n",
    "    X_test.append(player_test_inputs)  \n",
    "    Y_test.append(torch.from_numpy(player['fantasy_scores']).view(1, 15, 1).float())\n",
    "\n",
    "# Combine inputs and targets for all players\n",
    "X_train = torch.cat(X_train, dim=0)\n",
    "Y_train = torch.cat(Y_train, dim=0)\n",
    "X_test = torch.cat(X_test, dim=0)\n",
    "Y_test = torch.cat(Y_test, dim=0)\n",
    "X_train.shape, Y_train.shape, X_test.shape, Y_test.shape"
   ]
  },
  {
   "cell_type": "code",
   "execution_count": 43,
   "metadata": {},
   "outputs": [
    {
     "data": {
      "text/plain": [
       "3002"
      ]
     },
     "execution_count": 43,
     "metadata": {},
     "output_type": "execute_result"
    }
   ],
   "source": [
    "# Define the neural network architecture\n",
    "class RegressionModel(nn.Module):\n",
    "    def __init__(self, input_size, hidden_size):\n",
    "        super(RegressionModel, self).__init__()\n",
    "        self.fc1 = nn.Linear(input_size, hidden_size)\n",
    "        self.relu = nn.ReLU()\n",
    "        self.fc2 = nn.Linear(hidden_size, hidden_size)\n",
    "        self.fc3 = nn.Linear(hidden_size, hidden_size)\n",
    "        self.fc4 = nn.Linear(hidden_size, 1)\n",
    "\n",
    "    def forward(self, x):\n",
    "        out = self.fc1(x)\n",
    "        out = self.relu(out)\n",
    "        out = self.fc2(out)\n",
    "        out = self.fc3(out)\n",
    "        out = self.fc4(out)\n",
    "        return out\n",
    "\n",
    "# Set hyperparameters\n",
    "input_size = 2\n",
    "hidden_size = 500\n",
    "initial_learning_rate = 0.0001\n",
    "reduced_learning_rate = 0.00001\n",
    "\n",
    "# Create the model\n",
    "model = RegressionModel(input_size, hidden_size)\n",
    "\n",
    "# Define the loss function and optimizer\n",
    "criterion = nn.MSELoss()\n",
    "optimizer = optim.SGD(model.parameters(), lr=initial_learning_rate)\n",
    "\n",
    "total = 0\n",
    "params = list(model.parameters())\n",
    "for i in params:\n",
    "    total += len(i)\n",
    "total"
   ]
  },
  {
   "cell_type": "code",
   "execution_count": 48,
   "metadata": {},
   "outputs": [
    {
     "name": "stdout",
     "output_type": "stream",
     "text": [
      "Batch 1/2, Epoch 500/500, Loss: 42.37068176269531\n",
      "Batch 2/2, Epoch 500/500, Loss: 56.71717071533203\n",
      "\n",
      "Player 1: Skill Score: 7.18, Defense Rank: 27.0, Predicted Fantasy Score: 15.18, Actual Fantasy Score: 12.2\n",
      "\n",
      "Player 1: Skill Score: 7.18, Defense Rank: 23.0, Predicted Fantasy Score: 12.55, Actual Fantasy Score: 0.6\n",
      "\n",
      "Player 1: Skill Score: 7.18, Defense Rank: 15.0, Predicted Fantasy Score: 10.34, Actual Fantasy Score: 0.9\n",
      "\n",
      "Player 1: Skill Score: 7.18, Defense Rank: 26.0, Predicted Fantasy Score: 14.51, Actual Fantasy Score: 6.3\n",
      "\n",
      "Player 1: Skill Score: 7.18, Defense Rank: 31.0, Predicted Fantasy Score: 17.82, Actual Fantasy Score: 0.0\n",
      "\n",
      "Player 1: Skill Score: 7.18, Defense Rank: 4.0, Predicted Fantasy Score: 9.21, Actual Fantasy Score: 1.8\n",
      "\n",
      "Player 1: Skill Score: 7.18, Defense Rank: 3.0, Predicted Fantasy Score: 8.04, Actual Fantasy Score: 4.3\n",
      "\n",
      "Player 1: Skill Score: 7.18, Defense Rank: 25.0, Predicted Fantasy Score: 13.85, Actual Fantasy Score: 0.9\n",
      "\n",
      "Player 1: Skill Score: 7.18, Defense Rank: 6.0, Predicted Fantasy Score: 8.98, Actual Fantasy Score: 6.2\n",
      "\n",
      "Player 1: Skill Score: 7.18, Defense Rank: 23.0, Predicted Fantasy Score: 12.55, Actual Fantasy Score: 10.7\n",
      "\n",
      "Player 1: Skill Score: 7.18, Defense Rank: 24.0, Predicted Fantasy Score: 13.18, Actual Fantasy Score: 14.6\n",
      "\n",
      "Player 1: Skill Score: 7.18, Defense Rank: 17.0, Predicted Fantasy Score: 10.41, Actual Fantasy Score: 14.2\n",
      "\n",
      "Player 1: Skill Score: 7.18, Defense Rank: 28.0, Predicted Fantasy Score: 15.84, Actual Fantasy Score: 9.3\n",
      "\n",
      "Player 1: Skill Score: 7.18, Defense Rank: 14.0, Predicted Fantasy Score: 10.33, Actual Fantasy Score: 7.7\n",
      "\n",
      "Player 1: Skill Score: 7.18, Defense Rank: 13.0, Predicted Fantasy Score: 10.42, Actual Fantasy Score: 9.0\n",
      "\n"
     ]
    }
   ],
   "source": [
    "# Training loop for each player with batch size of 2\n",
    "batch_size = 8\n",
    "num_players = len(X_train)\n",
    "num_batches = num_players // batch_size  # Only full batches\n",
    "epoch_runs = 500\n",
    "batch_runs = 10\n",
    "reduced_lr_epoch = True\n",
    "\n",
    "# Training loop\n",
    "for epoch_run in range(epoch_runs):\n",
    "    for batch in range(num_batches):\n",
    "        batch_inputs = X_train[batch * batch_size: (batch + 1) * batch_size]\n",
    "        batch_targets = Y_train[batch * batch_size: (batch + 1) * batch_size]\n",
    "\n",
    "        # number of times a batch runs before running the next batch\n",
    "        for batch_run in range(batch_runs):\n",
    "            # Forward pass\n",
    "            outputs = model(batch_inputs)\n",
    "            loss = criterion(outputs, batch_targets)\n",
    "\n",
    "            # Backward and optimize\n",
    "            optimizer.zero_grad()\n",
    "            loss.backward()\n",
    "            optimizer.step()\n",
    "\n",
    "        # Manually reduce the learning rate at the specified epoch\n",
    "        if reduced_lr_epoch == True:\n",
    "            for param_group in optimizer.param_groups:\n",
    "                param_group['lr'] = reduced_learning_rate\n",
    "\n",
    "        # Print the loss for every epoch\n",
    "        if epoch_run + 1 == epoch_runs:\n",
    "            print(f\"Batch {batch+1}/{num_batches}, Epoch {epoch_run+1}/{epoch_runs}, Loss: {loss.item()}\")\n",
    "    \n",
    "# Make predictions for the player's test inputs\n",
    "with torch.no_grad():\n",
    "    player_predicted = model(X_test)\n",
    "\n",
    "print() # blank line\n",
    "# Print the predictions and original scores for the player\n",
    "for i in range(len(X_test[0])):\n",
    "    for j in range(len(X_test)):\n",
    "        print(f\"Player {j+1}: Skill Score: {round(X_test[j][i][1].item(), 2)}, Defense Rank: {X_test[j][i][0]}, \" + \n",
    "              f\"Predicted Fantasy Score: {round(player_predicted[j][i].item(), 2)}, Actual Fantasy Score: {round(Y_test[j][i].item(), 2)}\")\n",
    "    print() # blank line"
   ]
  }
 ],
 "metadata": {
  "kernelspec": {
   "display_name": "sports_ml_project-GEDH4Ov9",
   "language": "python",
   "name": "python3"
  },
  "language_info": {
   "codemirror_mode": {
    "name": "ipython",
    "version": 3
   },
   "file_extension": ".py",
   "mimetype": "text/x-python",
   "name": "python",
   "nbconvert_exporter": "python",
   "pygments_lexer": "ipython3",
   "version": "3.10.6"
  },
  "orig_nbformat": 4
 },
 "nbformat": 4,
 "nbformat_minor": 2
}
